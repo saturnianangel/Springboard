{
 "cells": [
  {
   "cell_type": "markdown",
   "metadata": {},
   "source": [
    "In this notebook I'll be doing some exploratory data analysis of survey answers regarding Mental Health in the Tech industry with the data I previously cleaned and combined in the DataWrangling notebook. "
   ]
  },
  {
   "cell_type": "code",
   "execution_count": 40,
   "metadata": {
    "scrolled": true
   },
   "outputs": [
    {
     "name": "stdout",
     "output_type": "stream",
     "text": [
      "Index([u'Age', u'Gender', u'Country', u'state', u'family_history',\n",
      "       u'treatment', u'work_interfere', u'no_employees', u'tech_company',\n",
      "       u'benefits', u'care_options', u'wellness_program', u'seek_help',\n",
      "       u'anonymity', u'leave', u'coworkers', u'supervisor',\n",
      "       u'mental_health_interview', u'phys_health_interview',\n",
      "       u'mental_vs_physical', u'obs_consequence', u'year', u'self_employed',\n",
      "       u'remote_work', u'mental_health_consequence',\n",
      "       u'phys_health_consequence'],\n",
      "      dtype='object')\n"
     ]
    }
   ],
   "source": [
    "#importing libraries\n",
    "import pandas as pd\n",
    "import numpy as np\n",
    "import matplotlib.pyplot as plt\n",
    "\n",
    "#reading in csv of cleaned data\n",
    "df = pd.read_csv(r\"c:\\Projects\\Springboard\\Capstone_I\\clean_data\\data_cleaned.csv\")\n",
    "\n",
    "#printing list of cols to explore\n",
    "print(df.columns)"
   ]
  },
  {
   "cell_type": "markdown",
   "metadata": {},
   "source": [
    "1. I will start by exploring the relationship between Gender and work_interfere. My initial hypothesis is that there will be a higher rate of self reported mental health interfering with work for females and those identified as 'other', as they tend to be minorities in a tech work space, which can cause added stress of not fitting in with the status quo. "
   ]
  },
  {
   "cell_type": "code",
   "execution_count": 41,
   "metadata": {},
   "outputs": [
    {
     "name": "stdout",
     "output_type": "stream",
     "text": [
      "<class 'pandas.core.frame.DataFrame'>\n",
      "RangeIndex: 3865 entries, 0 to 3864\n",
      "Data columns (total 3 columns):\n",
      "Gender            3846 non-null object\n",
      "work_interfere    1555 non-null object\n",
      "tech_company      3409 non-null object\n",
      "dtypes: object(3)\n",
      "memory usage: 90.7+ KB\n"
     ]
    }
   ],
   "source": [
    "#First, grab df with only cols of intereset, Gender, work_interfere, and tech_company //could also use groupby ?\n",
    "df_gender = df[['Gender', 'work_interfere', 'tech_company']]\n",
    "df_gender.info()"
   ]
  },
  {
   "cell_type": "code",
   "execution_count": 42,
   "metadata": {},
   "outputs": [],
   "source": [
    "#Calculate # of responses to 'yes' for working in a tech company (curious here to see what we're working with)\n",
    "\n",
    "\n",
    "#Explore % who responded 'yes' for working in a tech company that are male vs female vs other\n",
    "\n",
    "\n",
    "#Explore % who responded 'no' for working in a tech company that are male vs female vs other\n",
    "\n",
    "\n",
    "#plot stuff"
   ]
  },
  {
   "cell_type": "code",
   "execution_count": 43,
   "metadata": {},
   "outputs": [],
   "source": [
    "#Now that we have a picture of the distribution of responses based on gender, explore % that answered yes to 'work_interfere'\n",
    "\n",
    "#plot stuff"
   ]
  },
  {
   "cell_type": "markdown",
   "metadata": {},
   "source": [
    "Conclusions will be drawn here"
   ]
  },
  {
   "cell_type": "code",
   "execution_count": null,
   "metadata": {},
   "outputs": [],
   "source": []
  },
  {
   "cell_type": "markdown",
   "metadata": {},
   "source": [
    "2. Next I'll be exploring the impact of # of employees on mental health interferring with work. My initial hypothesis is that larger companies will have a higher instance of mental health interferring, due to both larger sampling to pool from, as well as possible feelings of being lost / not making an impact when working with larger corporations\n"
   ]
  },
  {
   "cell_type": "code",
   "execution_count": 44,
   "metadata": {
    "scrolled": true
   },
   "outputs": [
    {
     "name": "stdout",
     "output_type": "stream",
     "text": [
      "<class 'pandas.core.frame.DataFrame'>\n",
      "RangeIndex: 3865 entries, 0 to 3864\n",
      "Data columns (total 2 columns):\n",
      "no_employees      3409 non-null object\n",
      "work_interfere    1555 non-null object\n",
      "dtypes: object(2)\n",
      "memory usage: 60.5+ KB\n"
     ]
    }
   ],
   "source": [
    "#First, grab df with only cols of interest: work_interfere, and no_employees\n",
    "df_employees = df[['no_employees', 'work_interfere']]\n",
    "df_employees.info()"
   ]
  },
  {
   "cell_type": "code",
   "execution_count": 45,
   "metadata": {},
   "outputs": [],
   "source": [
    "#Calculate # of responses for each range of employee numbers\n",
    "\n",
    "\n",
    "#Explore % in each range that answered yes to 'work_interfere'\n",
    "\n",
    "\n",
    "#plot stuff"
   ]
  },
  {
   "cell_type": "markdown",
   "metadata": {},
   "source": [
    "Conclusions will be drawn here"
   ]
  },
  {
   "cell_type": "code",
   "execution_count": null,
   "metadata": {},
   "outputs": [],
   "source": []
  },
  {
   "cell_type": "markdown",
   "metadata": {},
   "source": [
    "3. Next I'd like to explore the relationship of # of employees compared to health policies that cover mental health, as well as how this relates to work_interfere.\n",
    "\n",
    "<strong>reminder of variables</strong><br/>\n",
    "benefits: Does your employer provide mental health benefits?<br/>\n",
    "care_options: Do you know the options for mental health care your employer provides?"
   ]
  },
  {
   "cell_type": "code",
   "execution_count": 46,
   "metadata": {},
   "outputs": [
    {
     "name": "stdout",
     "output_type": "stream",
     "text": [
      "<class 'pandas.core.frame.DataFrame'>\n",
      "RangeIndex: 3865 entries, 0 to 3864\n",
      "Data columns (total 4 columns):\n",
      "benefits          3409 non-null object\n",
      "care_options      3172 non-null object\n",
      "no_employees      3409 non-null object\n",
      "work_interfere    1555 non-null object\n",
      "dtypes: object(4)\n",
      "memory usage: 120.9+ KB\n"
     ]
    }
   ],
   "source": [
    "#First, grabbing columns relevent to mental health coverage\n",
    "df_benefits = df[['benefits', 'care_options', 'no_employees', 'work_interfere']]\n",
    "df_benefits.info()"
   ]
  },
  {
   "cell_type": "code",
   "execution_count": 47,
   "metadata": {},
   "outputs": [],
   "source": [
    "#explore data"
   ]
  },
  {
   "cell_type": "code",
   "execution_count": null,
   "metadata": {},
   "outputs": [],
   "source": []
  },
  {
   "cell_type": "markdown",
   "metadata": {},
   "source": [
    "Conclusions will be drawn here\n"
   ]
  },
  {
   "cell_type": "code",
   "execution_count": null,
   "metadata": {},
   "outputs": [],
   "source": []
  },
  {
   "cell_type": "markdown",
   "metadata": {},
   "source": [
    "4. Similarly I'd like to explore the relationship of # of employees compared to wellness programs, as well as how this relates to work_interfere.\n",
    "\n",
    "wellness_program: Has your employer ever discussed mental health as part of an employee wellness program?"
   ]
  },
  {
   "cell_type": "code",
   "execution_count": 48,
   "metadata": {},
   "outputs": [
    {
     "name": "stdout",
     "output_type": "stream",
     "text": [
      "<class 'pandas.core.frame.DataFrame'>\n",
      "RangeIndex: 3865 entries, 0 to 3864\n",
      "Data columns (total 3 columns):\n",
      "wellness_program    3409 non-null object\n",
      "no_employees        3409 non-null object\n",
      "work_interfere      1555 non-null object\n",
      "dtypes: object(3)\n",
      "memory usage: 90.7+ KB\n"
     ]
    }
   ],
   "source": [
    "#First, grabbing relevent columns\n",
    "df_wellnessPrograms = df[['wellness_program', 'no_employees', 'work_interfere']]\n",
    "df_wellnessPrograms.info()"
   ]
  },
  {
   "cell_type": "code",
   "execution_count": 49,
   "metadata": {},
   "outputs": [],
   "source": [
    "#explore data"
   ]
  },
  {
   "cell_type": "code",
   "execution_count": null,
   "metadata": {},
   "outputs": [],
   "source": []
  },
  {
   "cell_type": "markdown",
   "metadata": {},
   "source": [
    "Conclusions will be drawn here\n"
   ]
  },
  {
   "cell_type": "code",
   "execution_count": null,
   "metadata": {},
   "outputs": [],
   "source": []
  },
  {
   "cell_type": "markdown",
   "metadata": {},
   "source": [
    "5.  Finally I'd like to explore the perception of importance of mental vs physical health, and how that relates to work_interfere\n",
    "\n",
    "mental_vs_physical: Do you feel that your employer takes mental health as seriously as physical health?\n"
   ]
  },
  {
   "cell_type": "code",
   "execution_count": 50,
   "metadata": {},
   "outputs": [
    {
     "name": "stdout",
     "output_type": "stream",
     "text": [
      "<class 'pandas.core.frame.DataFrame'>\n",
      "RangeIndex: 3865 entries, 0 to 3864\n",
      "Data columns (total 2 columns):\n",
      "mental_vs_physical    3578 non-null object\n",
      "work_interfere        1555 non-null object\n",
      "dtypes: object(2)\n",
      "memory usage: 60.5+ KB\n"
     ]
    }
   ],
   "source": [
    "#First, grabbing relevent columns\n",
    "df_mentalVphysical = df[['mental_vs_physical', 'work_interfere']]\n",
    "df_mentalVphysical.info()"
   ]
  },
  {
   "cell_type": "code",
   "execution_count": 51,
   "metadata": {},
   "outputs": [],
   "source": [
    "#explore data"
   ]
  },
  {
   "cell_type": "code",
   "execution_count": null,
   "metadata": {},
   "outputs": [],
   "source": []
  },
  {
   "cell_type": "markdown",
   "metadata": {},
   "source": [
    "Conclusions will be drawn here\n"
   ]
  },
  {
   "cell_type": "code",
   "execution_count": null,
   "metadata": {},
   "outputs": [],
   "source": []
  },
  {
   "cell_type": "markdown",
   "metadata": {},
   "source": [
    "Discuss other ideas left to explore here."
   ]
  },
  {
   "cell_type": "code",
   "execution_count": null,
   "metadata": {},
   "outputs": [],
   "source": []
  },
  {
   "cell_type": "code",
   "execution_count": null,
   "metadata": {},
   "outputs": [],
   "source": []
  }
 ],
 "metadata": {
  "kernelspec": {
   "display_name": "Python 2",
   "language": "python",
   "name": "python2"
  },
  "language_info": {
   "codemirror_mode": {
    "name": "ipython",
    "version": 2
   },
   "file_extension": ".py",
   "mimetype": "text/x-python",
   "name": "python",
   "nbconvert_exporter": "python",
   "pygments_lexer": "ipython2",
   "version": "2.7.16"
  }
 },
 "nbformat": 4,
 "nbformat_minor": 2
}
